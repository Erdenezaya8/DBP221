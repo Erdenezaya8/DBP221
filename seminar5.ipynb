{
 "cells": [
  {
   "cell_type": "code",
   "execution_count": 1,
   "id": "75b8a82b",
   "metadata": {},
   "outputs": [
    {
     "name": "stdout",
     "output_type": "stream",
     "text": [
      "5\n",
      "*\n",
      "**\n",
      "***\n",
      "****\n",
      "*****\n"
     ]
    }
   ],
   "source": [
    "# 1\n",
    "def func1(x):\n",
    "    i = 1\n",
    "    while i < x+1:\n",
    "        print('*' * i)\n",
    "        i += 1\n",
    "func1(int(input()))"
   ]
  },
  {
   "cell_type": "code",
   "execution_count": null,
   "id": "7260c308",
   "metadata": {},
   "outputs": [],
   "source": [
    "# 2\n",
    "def func2(x):\n",
    "    for i in range(1, x+1):\n",
    "        l = ['*'*i]\n",
    "        for k in l:\n",
    "            print(k)\n",
    "func2(int(input())) "
   ]
  },
  {
   "cell_type": "code",
   "execution_count": null,
   "id": "9a176368",
   "metadata": {},
   "outputs": [],
   "source": [
    "# 3\n",
    "students = {\n",
    " 'Bat': 18,\n",
    " 'Oyun': 22,\n",
    " 'Dulam': 21,\n",
    " 'Suren': 20\n",
    "}\n",
    "def func3(dictionary):\n",
    "    return max(students, key=students.get),min(students, key=students.get)\n",
    "func3(students)\n",
    "\n"
   ]
  },
  {
   "cell_type": "code",
   "execution_count": null,
   "id": "1e0601ae",
   "metadata": {},
   "outputs": [],
   "source": [
    "#4\n",
    "import numpy as np\n",
    "x = np.arange(1,1000)\n",
    "niilber = 0\n",
    "for i in x:\n",
    "    if i % 3 == 0 or i % 7 == 0:\n",
    "        niilber += i\n",
    "print(niilber)"
   ]
  }
 ],
 "metadata": {
  "kernelspec": {
   "display_name": "Python 3",
   "language": "python",
   "name": "python3"
  },
  "language_info": {
   "codemirror_mode": {
    "name": "ipython",
    "version": 3
   },
   "file_extension": ".py",
   "mimetype": "text/x-python",
   "name": "python",
   "nbconvert_exporter": "python",
   "pygments_lexer": "ipython3",
   "version": "3.8.8"
  }
 },
 "nbformat": 4,
 "nbformat_minor": 5
}
